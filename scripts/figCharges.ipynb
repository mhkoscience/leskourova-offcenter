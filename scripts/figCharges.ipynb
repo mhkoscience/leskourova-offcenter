{
 "cells": [
  {
   "cell_type": "code",
   "execution_count": 1,
   "metadata": {},
   "outputs": [
    {
     "data": {
      "text/plain": [
       "'done'"
      ]
     },
     "execution_count": 1,
     "metadata": {},
     "output_type": "execute_result"
    }
   ],
   "source": [
    "%matplotlib inline\n",
    "\n",
    "import numpy as np\n",
    "import pandas as pd\n",
    "import matplotlib\n",
    "import matplotlib.pyplot as plt\n",
    "\n",
    "\"done\""
   ]
  },
  {
   "cell_type": "markdown",
   "metadata": {},
   "source": [
    "# README\n",
    "\n",
    "This notebook plots normalized histograms of selected partial charges.\n",
    "\n",
    "It also analyses the histograms."
   ]
  },
  {
   "cell_type": "code",
   "execution_count": 2,
   "metadata": {},
   "outputs": [],
   "source": [
    "# read\n",
    "std_cl = pd.read_csv(\"../chlorine/punches.csv\")\n",
    "std_br = pd.read_csv(\"../bromine/punches.csv\")\n",
    "std_i = pd.read_csv(\"../iodine/punches.csv\")\n",
    "stds = [std_cl, std_br, std_i]\n",
    "\n",
    "mod_cl = pd.read_csv(\"../chlorine/punches-mod.csv\")\n",
    "mod_br = pd.read_csv(\"../bromine/punches-mod.csv\")\n",
    "mod_i = pd.read_csv(\"../iodine/punches-mod.csv\")\n",
    "mods = [mod_cl, mod_br, mod_i]"
   ]
  },
  {
   "cell_type": "markdown",
   "metadata": {},
   "source": [
    "# histograms of charges"
   ]
  },
  {
   "cell_type": "code",
   "execution_count": 3,
   "metadata": {},
   "outputs": [],
   "source": [
    "# styling plots,\n",
    "matplotlib.rcParams[\"font.family\"] = \"Open Sans\"\n",
    "matplotlib.rcParams[\"font.size\"] = 6\n",
    "matplotlib.rcParams[\"lines.linewidth\"] = 1\n",
    "matplotlib.rcParams[\"axes.grid\"] = True\n",
    "matplotlib.rcParams[\"axes.grid.axis\"] = \"y\"\n",
    "matplotlib.rcParams[\"axes.spines.top\"] = False\n",
    "matplotlib.rcParams[\"axes.spines.right\"] = False\n",
    "matplotlib.rcParams[\"axes.spines.left\"] = False\n",
    "matplotlib.rcParams[\"grid.color\"] = \"grey\"\n",
    "matplotlib.rcParams[\"grid.linestyle\"] = \"dotted\""
   ]
  },
  {
   "cell_type": "code",
   "execution_count": 5,
   "metadata": {},
   "outputs": [
    {
     "data": {
      "image/png": "[encoded data removed]",
      "text/plain": [
       "<Figure size 432x108 with 4 Axes>"
      ]
     },
     "metadata": {
      "needs_background": "light"
     },
     "output_type": "display_data"
    }
   ],
   "source": [
    "# three plots\n",
    "# some setup\n",
    "hist_bins = 50\n",
    "hals = \"cl br i\".split()\n",
    "colors = \"black dodgerblue tomato\".split()\n",
    "\n",
    "# initialize figure\n",
    "fig, axs= plt.subplots(nrows=1, ncols=4, figsize=(6,1.5), sharey=True)\n",
    "left, midleft, midright, right = axs\n",
    "\n",
    "\n",
    "# left\n",
    "for hal_id, hal in enumerate(hals):\n",
    "    \n",
    "    # histogram\n",
    "    charges = stds[hal_id][\"q_x\"]\n",
    "    hist_range = (-0.2,0.1)\n",
    "    hist, edges = np.histogram(charges, bins=hist_bins, range=hist_range, density=True)\n",
    "    \n",
    "    # plot\n",
    "    left.fill_between(edges[:-1], hist, color=colors[hal_id], alpha=0.5, zorder=9,\n",
    "                    label=f\"{hal.capitalize()}: {charges.mean():.2f}±{charges.std():.2f} e\")\n",
    "\n",
    "left.set_title(\"X, RESP\")\n",
    "left.set_xlabel(\"charge / e\")\n",
    "left.tick_params(length=0, axis=\"y\")\n",
    "left.set_ylabel(\"pdf\")\n",
    "left.legend()\n",
    "\n",
    "\n",
    "# midleft\n",
    "for hal_id, hal in enumerate(hals):\n",
    "    \n",
    "    # histogram\n",
    "    charges = mods[hal_id][\"q_x\"]\n",
    "    hist_range = (-0.45, -0.15)\n",
    "    hist, edges = np.histogram(charges, bins=hist_bins, range=hist_range, density=True)\n",
    "    \n",
    "    # plot\n",
    "    midleft.fill_between(edges[:-1], hist, color=colors[hal_id], alpha=0.5, zorder=9,\n",
    "                    label=f\"{hal.capitalize()}: {charges.mean():.2f}±{charges.std():.2f} e\")\n",
    "\n",
    "midleft.set_title(\"X, mRESP\")\n",
    "midleft.set_xlabel(\"charge / e\")\n",
    "midleft.tick_params(length=0, axis=\"y\")\n",
    "midleft.legend()\n",
    "\n",
    "\n",
    "# midright\n",
    "for hal_id, hal in enumerate(hals):\n",
    "    \n",
    "    # histogram\n",
    "    charges = mods[hal_id][\"q_sigma\"]\n",
    "    hist_range = (-0.05,0.25)\n",
    "    hist, edges = np.histogram(charges, bins=hist_bins, range=hist_range, density=True)\n",
    "    \n",
    "    # plot\n",
    "    midright.fill_between(edges[:-1], hist, color=colors[hal_id], alpha=0.5, zorder=9,\n",
    "                    label=f\"{hal.capitalize()}: {charges.mean():.2f}±{charges.std():.2f} e\")\n",
    "\n",
    "midright.set_title(\"σ-hole, mRESP\")\n",
    "midright.set_xlabel(\"charge / e\")\n",
    "midright.tick_params(length=0, axis=\"y\")\n",
    "midright.legend()\n",
    "\n",
    "\n",
    "# right\n",
    "for hal_id, hal in enumerate(hals):\n",
    "    \n",
    "    # histogram\n",
    "    charges = mods[hal_id][\"q_x\"] + mods[hal_id][\"q_sigma\"]\n",
    "    hist_range = (-0.35,-0.05)\n",
    "    hist, edges = np.histogram(charges, bins=hist_bins, range=hist_range, density=True)\n",
    "    \n",
    "    # plot\n",
    "    right.fill_between(edges[:-1], hist, color=colors[hal_id], alpha=0.5, zorder=99,\n",
    "                    label=f\"{hal.capitalize()}: {charges.mean():.2f}±{charges.std():.2f} e\")\n",
    "\n",
    "right.set_title(\"σ-hole + X, mRESP\")\n",
    "right.set_xlabel(\"charge / e\")\n",
    "right.tick_params(length=0, axis=\"y\")\n",
    "right.legend()\n",
    "\n",
    "\n",
    "plt.tight_layout()\n",
    "for ext in \"png pdf\".split():\n",
    "    plt.savefig(f\"../charges-hist.{ext}\", dpi=300)"
   ]
  },
  {
   "cell_type": "markdown",
   "metadata": {},
   "source": [
    "# fraction of positive halogen in RESP"
   ]
  },
  {
   "cell_type": "code",
   "execution_count": 6,
   "metadata": {},
   "outputs": [
    {
     "name": "stdout",
     "output_type": "stream",
     "text": [
      "Cl: 3 / 276 = 1.087 %\n",
      "Br: 119 / 1120 = 10.625 %\n",
      "I: 295 / 915 = 32.240 %\n"
     ]
    }
   ],
   "source": [
    "for hal_id, hal in enumerate(hals):\n",
    "    df = stds[hal_id]\n",
    "    n_mols = len(df)\n",
    "    n_positive_x = len(df[df[\"q_x\"]>=0])\n",
    "    print(f\"{hal.capitalize()}: {n_positive_x} / {n_mols} = {n_positive_x/n_mols*100:.3f} %\")"
   ]
  },
  {
   "cell_type": "markdown",
   "metadata": {},
   "source": [
    "# fraction of positive halogen in mRESP (halogen+sigma)"
   ]
  },
  {
   "cell_type": "code",
   "execution_count": 7,
   "metadata": {},
   "outputs": [
    {
     "name": "stdout",
     "output_type": "stream",
     "text": [
      "Cl: 0 / 276 = 0.000 %\n",
      "Br: 2 / 1120 = 0.179 %\n",
      "I: 2 / 915 = 0.219 %\n"
     ]
    }
   ],
   "source": [
    "for hal_id, hal in enumerate(hals):\n",
    "    df = mods[hal_id]\n",
    "    n_mols = len(df)\n",
    "    n_positive_x = len(df[df[\"q_x\"] + df[\"q_sigma\"] >= 0])\n",
    "    print(f\"{hal.capitalize()}: {n_positive_x} / {n_mols} = {n_positive_x/n_mols*100:.3f} %\")"
   ]
  },
  {
   "cell_type": "markdown",
   "metadata": {},
   "source": [
    "# fraction of positive sigma-hole in mRESP"
   ]
  },
  {
   "cell_type": "code",
   "execution_count": 8,
   "metadata": {},
   "outputs": [
    {
     "name": "stdout",
     "output_type": "stream",
     "text": [
      "Cl: 276 / 276 = 100.000 %\n",
      "Br: 1120 / 1120 = 100.000 %\n",
      "I: 915 / 915 = 100.000 %\n"
     ]
    }
   ],
   "source": [
    "for hal_id, hal in enumerate(hals):\n",
    "    df = mods[hal_id]\n",
    "    n_mols = len(df)\n",
    "    n_positive_x = len(df[df[\"q_sigma\"]>=0])\n",
    "    print(f\"{hal.capitalize()}: {n_positive_x} / {n_mols} = {n_positive_x/n_mols*100:.3f} %\")"
   ]
  },
  {
   "cell_type": "code",
   "execution_count": 9,
   "metadata": {},
   "outputs": [
    {
     "name": "stdout",
     "output_type": "stream",
     "text": [
      "2311\n"
     ]
    }
   ],
   "source": [
    "s = 0\n",
    "for hal_id, hal in enumerate(hals):\n",
    "    df = mods[hal_id]\n",
    "    s += len(df)\n",
    "print(s)"
   ]
  }
 ],
 "metadata": {
  "kernelspec": {
   "display_name": "Python 3",
   "language": "python",
   "name": "python3"
  },
  "language_info": {
   "codemirror_mode": {
    "name": "ipython",
    "version": 3
   },
   "file_extension": ".py",
   "mimetype": "text/x-python",
   "name": "python",
   "nbconvert_exporter": "python",
   "pygments_lexer": "ipython3",
   "version": "3.8.3"
  }
 },
 "nbformat": 4,
 "nbformat_minor": 4
}
