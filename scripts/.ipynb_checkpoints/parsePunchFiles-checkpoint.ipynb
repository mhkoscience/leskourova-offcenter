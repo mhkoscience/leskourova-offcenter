{
 "cells": [
  {
   "cell_type": "code",
   "execution_count": 1,
   "metadata": {},
   "outputs": [],
   "source": [
    "import glob\n",
    "import numpy as np\n",
    "import pandas as pd\n",
    "import matplotlib\n",
    "import matplotlib.pyplot as plt"
   ]
  },
  {
   "cell_type": "markdown",
   "metadata": {},
   "source": [
    "# README\n",
    "\n",
    "This notebook extracts some data from resp fitting. Namely it creates a CSV file with\n",
    "\n",
    "- zinc code\n",
    "- halogen charge\n",
    "- sigma-hole charge (if applicable)\n",
    "- standard error of the fitting\n",
    "- dipole moment"
   ]
  },
  {
   "cell_type": "markdown",
   "metadata": {},
   "source": [
    "## standard RESP"
   ]
  },
  {
   "cell_type": "code",
   "execution_count": 4,
   "metadata": {},
   "outputs": [
    {
     "data": {
      "text/plain": [
       "'done'"
      ]
     },
     "execution_count": 4,
     "metadata": {},
     "output_type": "execute_result"
    }
   ],
   "source": [
    "def parsePunch(mol):\n",
    "    \n",
    "    # initialize\n",
    "    q_x = None\n",
    "    stderr = None\n",
    "    dipole = None\n",
    "    \n",
    "    # read file content\n",
    "    punch = mol + \"/antechamber/punch\"\n",
    "    with open(punch) as stream:\n",
    "        lines = stream.readlines()\n",
    "    \n",
    "    # browse file content\n",
    "    reading = False\n",
    "    for line in lines:\n",
    "        \n",
    "        l_spl = line.split()\n",
    "        \n",
    "        # skip short\n",
    "        if len(l_spl) == 0:\n",
    "            continue\n",
    "        \n",
    "        # mark the start of reading\n",
    "        if l_spl[0] == \"NO\":\n",
    "            reading = True\n",
    "            continue\n",
    "        \n",
    "        # skip if not \n",
    "        if not reading:\n",
    "            continue\n",
    "        \n",
    "        # charges\n",
    "        if len(l_spl) == 6:\n",
    "            \n",
    "            at_num = int(l_spl[1])\n",
    "            \n",
    "            # halogen\n",
    "            if at_num in [17, 35, 53]:\n",
    "                q_x = float(l_spl[3])\n",
    "                continue\n",
    "\n",
    "        \n",
    "        # fit\n",
    "        if l_spl[1] == \"std\":\n",
    "            stderr = float(l_spl[-1])\n",
    "        \n",
    "        # dipole\n",
    "        if l_spl[0] == \"Dipole\":\n",
    "            dipole = float(l_spl[-1])\n",
    "        \n",
    "    return q_x, stderr, dipole\n",
    "\n",
    "\n",
    "for halogen in \"chlorine bromine iodine\".split():\n",
    "\n",
    "    mols = sorted(glob.glob(f\"../{halogen}/ZINC*\"))\n",
    "    with open(f\"../{halogen}/punches.csv\", \"w\") as out:\n",
    "        out.write(\"mol,q_x,stderr,dipole\\n\")\n",
    "        for mol in mols:\n",
    "\n",
    "            zinc = mol.split(\"/\")[-1]\n",
    "            q_x, stderr, dipole = parsePunch(mol)\n",
    "\n",
    "            out.write(f\"{zinc},{q_x:.6f},{stderr:.5f},{dipole:.5f}\\n\")\n",
    "        \n",
    "\"done\""
   ]
  },
  {
   "cell_type": "markdown",
   "metadata": {},
   "source": [
    "## Modified RESP"
   ]
  },
  {
   "cell_type": "code",
   "execution_count": 5,
   "metadata": {},
   "outputs": [
    {
     "data": {
      "text/plain": [
       "'done'"
      ]
     },
     "execution_count": 5,
     "metadata": {},
     "output_type": "execute_result"
    }
   ],
   "source": [
    "def parsePunch(mol):\n",
    "    \n",
    "    # initialize\n",
    "    q_sigma = None\n",
    "    q_x = None\n",
    "    stderr = None\n",
    "    dipole = None\n",
    "    \n",
    "    # read file content\n",
    "    punch = mol + \"/mod2/punch\"\n",
    "    with open(punch) as stream:\n",
    "        lines = stream.readlines()\n",
    "    \n",
    "    # browse file content\n",
    "    reading = False\n",
    "    for line in lines:\n",
    "        \n",
    "        l_spl = line.split()\n",
    "        \n",
    "        # skip short\n",
    "        if len(l_spl) == 0:\n",
    "            continue\n",
    "        \n",
    "        # mark the start of reading\n",
    "        if l_spl[0] == \"NO\":\n",
    "            reading = True\n",
    "            continue\n",
    "        \n",
    "        # skip if not \n",
    "        if not reading:\n",
    "            continue\n",
    "        \n",
    "        # charges\n",
    "        if len(l_spl) == 6:\n",
    "            \n",
    "            at_num = int(l_spl[1])\n",
    "            \n",
    "            # halogen\n",
    "            if at_num in [17, 35, 53]:\n",
    "                q_x = float(l_spl[3])\n",
    "                continue\n",
    "            \n",
    "            # sigma\n",
    "            if at_num == 0:\n",
    "                q_sigma = float(l_spl[3])\n",
    "                continue\n",
    "        \n",
    "        # fit\n",
    "        if l_spl[1] == \"std\":\n",
    "            stderr = float(l_spl[-1])\n",
    "        \n",
    "        # dipole\n",
    "        if l_spl[0] == \"Dipole\":\n",
    "            dipole = float(l_spl[-1])\n",
    "        \n",
    "    return q_sigma, q_x, stderr, dipole\n",
    "\n",
    "\n",
    "for halogen in \"chlorine bromine iodine\".split():\n",
    "\n",
    "    mols = sorted(glob.glob(f\"../{halogen}/ZINC*\"))\n",
    "    with open(f\"../{halogen}/punches-mod.csv\", \"w\") as out:\n",
    "        out.write(\"mol,q_sigma,q_x,stderr,dipole\\n\")\n",
    "        for mol in mols:\n",
    "\n",
    "            zinc = mol.split(\"/\")[-1]\n",
    "            q_sigma, q_x, stderr, dipole = parsePunch(mol)\n",
    "\n",
    "            out.write(f\"{zinc},{q_sigma:.6f},{q_x:.6f},{stderr:.5f},{dipole:.5f}\\n\")\n",
    "        \n",
    "\"done\""
   ]
  },
  {
   "cell_type": "code",
   "execution_count": 6,
   "metadata": {},
   "outputs": [
    {
     "data": {
      "text/html": [
       "<div>\n",
       "<style scoped>\n",
       "    .dataframe tbody tr th:only-of-type {\n",
       "        vertical-align: middle;\n",
       "    }\n",
       "\n",
       "    .dataframe tbody tr th {\n",
       "        vertical-align: top;\n",
       "    }\n",
       "\n",
       "    .dataframe thead th {\n",
       "        text-align: right;\n",
       "    }\n",
       "</style>\n",
       "<table border=\"1\" class=\"dataframe\">\n",
       "  <thead>\n",
       "    <tr style=\"text-align: right;\">\n",
       "      <th></th>\n",
       "      <th>mol</th>\n",
       "      <th>q_sigma</th>\n",
       "      <th>q_x</th>\n",
       "      <th>stderr</th>\n",
       "      <th>dipole</th>\n",
       "    </tr>\n",
       "  </thead>\n",
       "  <tbody>\n",
       "    <tr>\n",
       "      <th>0</th>\n",
       "      <td>ZINC00000116</td>\n",
       "      <td>0.124869</td>\n",
       "      <td>-0.386344</td>\n",
       "      <td>0.00095</td>\n",
       "      <td>4.60699</td>\n",
       "    </tr>\n",
       "    <tr>\n",
       "      <th>1</th>\n",
       "      <td>ZINC00000900</td>\n",
       "      <td>0.080798</td>\n",
       "      <td>-0.196754</td>\n",
       "      <td>0.00120</td>\n",
       "      <td>5.66740</td>\n",
       "    </tr>\n",
       "    <tr>\n",
       "      <th>2</th>\n",
       "      <td>ZINC00001049</td>\n",
       "      <td>0.114473</td>\n",
       "      <td>-0.343004</td>\n",
       "      <td>0.00171</td>\n",
       "      <td>7.02851</td>\n",
       "    </tr>\n",
       "    <tr>\n",
       "      <th>3</th>\n",
       "      <td>ZINC00001059</td>\n",
       "      <td>0.095321</td>\n",
       "      <td>-0.288562</td>\n",
       "      <td>0.00088</td>\n",
       "      <td>2.56237</td>\n",
       "    </tr>\n",
       "    <tr>\n",
       "      <th>4</th>\n",
       "      <td>ZINC00001093</td>\n",
       "      <td>0.117763</td>\n",
       "      <td>-0.452420</td>\n",
       "      <td>0.00138</td>\n",
       "      <td>4.13247</td>\n",
       "    </tr>\n",
       "    <tr>\n",
       "      <th>...</th>\n",
       "      <td>...</td>\n",
       "      <td>...</td>\n",
       "      <td>...</td>\n",
       "      <td>...</td>\n",
       "      <td>...</td>\n",
       "    </tr>\n",
       "    <tr>\n",
       "      <th>1115</th>\n",
       "      <td>ZINC00180798</td>\n",
       "      <td>0.122195</td>\n",
       "      <td>-0.334719</td>\n",
       "      <td>0.00136</td>\n",
       "      <td>3.96918</td>\n",
       "    </tr>\n",
       "    <tr>\n",
       "      <th>1116</th>\n",
       "      <td>ZINC00182296</td>\n",
       "      <td>0.116323</td>\n",
       "      <td>-0.340364</td>\n",
       "      <td>0.00165</td>\n",
       "      <td>2.43237</td>\n",
       "    </tr>\n",
       "    <tr>\n",
       "      <th>1117</th>\n",
       "      <td>ZINC00182358</td>\n",
       "      <td>0.125876</td>\n",
       "      <td>-0.310303</td>\n",
       "      <td>0.00106</td>\n",
       "      <td>3.22232</td>\n",
       "    </tr>\n",
       "    <tr>\n",
       "      <th>1118</th>\n",
       "      <td>ZINC00182360</td>\n",
       "      <td>0.128643</td>\n",
       "      <td>-0.265401</td>\n",
       "      <td>0.00159</td>\n",
       "      <td>4.11702</td>\n",
       "    </tr>\n",
       "    <tr>\n",
       "      <th>1119</th>\n",
       "      <td>ZINC00182398</td>\n",
       "      <td>0.113821</td>\n",
       "      <td>-0.337320</td>\n",
       "      <td>0.00164</td>\n",
       "      <td>3.98369</td>\n",
       "    </tr>\n",
       "  </tbody>\n",
       "</table>\n",
       "<p>1120 rows × 5 columns</p>\n",
       "</div>"
      ],
      "text/plain": [
       "               mol   q_sigma       q_x   stderr   dipole\n",
       "0     ZINC00000116  0.124869 -0.386344  0.00095  4.60699\n",
       "1     ZINC00000900  0.080798 -0.196754  0.00120  5.66740\n",
       "2     ZINC00001049  0.114473 -0.343004  0.00171  7.02851\n",
       "3     ZINC00001059  0.095321 -0.288562  0.00088  2.56237\n",
       "4     ZINC00001093  0.117763 -0.452420  0.00138  4.13247\n",
       "...            ...       ...       ...      ...      ...\n",
       "1115  ZINC00180798  0.122195 -0.334719  0.00136  3.96918\n",
       "1116  ZINC00182296  0.116323 -0.340364  0.00165  2.43237\n",
       "1117  ZINC00182358  0.125876 -0.310303  0.00106  3.22232\n",
       "1118  ZINC00182360  0.128643 -0.265401  0.00159  4.11702\n",
       "1119  ZINC00182398  0.113821 -0.337320  0.00164  3.98369\n",
       "\n",
       "[1120 rows x 5 columns]"
      ]
     },
     "execution_count": 6,
     "metadata": {},
     "output_type": "execute_result"
    }
   ],
   "source": [
    "df = pd.read_csv(\"../bromine/punches-mod.csv\")\n",
    "df"
   ]
  },
  {
   "cell_type": "code",
   "execution_count": 7,
   "metadata": {},
   "outputs": [
    {
     "data": {
      "text/plain": [
       "q_sigma    0.113554\n",
       "q_x       -0.304917\n",
       "stderr     0.001346\n",
       "dipole     4.010682\n",
       "dtype: float64"
      ]
     },
     "execution_count": 7,
     "metadata": {},
     "output_type": "execute_result"
    }
   ],
   "source": [
    "df.mean()"
   ]
  },
  {
   "cell_type": "code",
   "execution_count": 8,
   "metadata": {},
   "outputs": [
    {
     "data": {
      "text/plain": [
       "q_sigma    0.018130\n",
       "q_x        0.046919\n",
       "stderr     0.000354\n",
       "dipole     1.894459\n",
       "dtype: float64"
      ]
     },
     "execution_count": 8,
     "metadata": {},
     "output_type": "execute_result"
    }
   ],
   "source": [
    "df.std()"
   ]
  },
  {
   "cell_type": "code",
   "execution_count": 9,
   "metadata": {},
   "outputs": [],
   "source": [
    "sigmas = df.sort_values(by=\"q_sigma\")[\"q_sigma\"]"
   ]
  },
  {
   "cell_type": "code",
   "execution_count": 10,
   "metadata": {},
   "outputs": [
    {
     "data": {
      "text/plain": [
       "<BarContainer object of 1120 artists>"
      ]
     },
     "execution_count": 10,
     "metadata": {},
     "output_type": "execute_result"
    },
    {
     "data": {
      "image/png": "[encoded data removed]",
      "text/plain": [
       "<Figure size 432x288 with 1 Axes>"
      ]
     },
     "metadata": {
      "needs_background": "light"
     },
     "output_type": "display_data"
    }
   ],
   "source": [
    "plt.bar(np.arange(len(sigmas)), sigmas)"
   ]
  },
  {
   "cell_type": "code",
   "execution_count": 11,
   "metadata": {},
   "outputs": [
    {
     "data": {
      "text/html": [
       "<div>\n",
       "<style scoped>\n",
       "    .dataframe tbody tr th:only-of-type {\n",
       "        vertical-align: middle;\n",
       "    }\n",
       "\n",
       "    .dataframe tbody tr th {\n",
       "        vertical-align: top;\n",
       "    }\n",
       "\n",
       "    .dataframe thead th {\n",
       "        text-align: right;\n",
       "    }\n",
       "</style>\n",
       "<table border=\"1\" class=\"dataframe\">\n",
       "  <thead>\n",
       "    <tr style=\"text-align: right;\">\n",
       "      <th></th>\n",
       "      <th>mol</th>\n",
       "      <th>q_sigma</th>\n",
       "      <th>q_x</th>\n",
       "      <th>stderr</th>\n",
       "      <th>dipole</th>\n",
       "    </tr>\n",
       "  </thead>\n",
       "  <tbody>\n",
       "    <tr>\n",
       "      <th>865</th>\n",
       "      <td>ZINC00158941</td>\n",
       "      <td>0.041548</td>\n",
       "      <td>-0.224430</td>\n",
       "      <td>0.00167</td>\n",
       "      <td>3.75089</td>\n",
       "    </tr>\n",
       "    <tr>\n",
       "      <th>838</th>\n",
       "      <td>ZINC00158677</td>\n",
       "      <td>0.045729</td>\n",
       "      <td>-0.208076</td>\n",
       "      <td>0.00197</td>\n",
       "      <td>4.03573</td>\n",
       "    </tr>\n",
       "    <tr>\n",
       "      <th>867</th>\n",
       "      <td>ZINC00158960</td>\n",
       "      <td>0.058790</td>\n",
       "      <td>-0.262395</td>\n",
       "      <td>0.00133</td>\n",
       "      <td>2.74247</td>\n",
       "    </tr>\n",
       "    <tr>\n",
       "      <th>1020</th>\n",
       "      <td>ZINC00167040</td>\n",
       "      <td>0.059130</td>\n",
       "      <td>-0.258754</td>\n",
       "      <td>0.00122</td>\n",
       "      <td>3.44646</td>\n",
       "    </tr>\n",
       "    <tr>\n",
       "      <th>1035</th>\n",
       "      <td>ZINC00168343</td>\n",
       "      <td>0.060491</td>\n",
       "      <td>-0.251185</td>\n",
       "      <td>0.00166</td>\n",
       "      <td>3.38708</td>\n",
       "    </tr>\n",
       "    <tr>\n",
       "      <th>...</th>\n",
       "      <td>...</td>\n",
       "      <td>...</td>\n",
       "      <td>...</td>\n",
       "      <td>...</td>\n",
       "      <td>...</td>\n",
       "    </tr>\n",
       "    <tr>\n",
       "      <th>1106</th>\n",
       "      <td>ZINC00178230</td>\n",
       "      <td>0.160937</td>\n",
       "      <td>-0.337167</td>\n",
       "      <td>0.00172</td>\n",
       "      <td>3.10228</td>\n",
       "    </tr>\n",
       "    <tr>\n",
       "      <th>1013</th>\n",
       "      <td>ZINC00166552</td>\n",
       "      <td>0.166286</td>\n",
       "      <td>-0.436370</td>\n",
       "      <td>0.00097</td>\n",
       "      <td>2.06629</td>\n",
       "    </tr>\n",
       "    <tr>\n",
       "      <th>815</th>\n",
       "      <td>ZINC00158586</td>\n",
       "      <td>0.168607</td>\n",
       "      <td>-0.479088</td>\n",
       "      <td>0.00096</td>\n",
       "      <td>3.86232</td>\n",
       "    </tr>\n",
       "    <tr>\n",
       "      <th>916</th>\n",
       "      <td>ZINC00161343</td>\n",
       "      <td>0.168617</td>\n",
       "      <td>-0.312596</td>\n",
       "      <td>0.00115</td>\n",
       "      <td>6.58358</td>\n",
       "    </tr>\n",
       "    <tr>\n",
       "      <th>504</th>\n",
       "      <td>ZINC00115021</td>\n",
       "      <td>0.225305</td>\n",
       "      <td>-0.447553</td>\n",
       "      <td>0.00308</td>\n",
       "      <td>2.51827</td>\n",
       "    </tr>\n",
       "  </tbody>\n",
       "</table>\n",
       "<p>1120 rows × 5 columns</p>\n",
       "</div>"
      ],
      "text/plain": [
       "               mol   q_sigma       q_x   stderr   dipole\n",
       "865   ZINC00158941  0.041548 -0.224430  0.00167  3.75089\n",
       "838   ZINC00158677  0.045729 -0.208076  0.00197  4.03573\n",
       "867   ZINC00158960  0.058790 -0.262395  0.00133  2.74247\n",
       "1020  ZINC00167040  0.059130 -0.258754  0.00122  3.44646\n",
       "1035  ZINC00168343  0.060491 -0.251185  0.00166  3.38708\n",
       "...            ...       ...       ...      ...      ...\n",
       "1106  ZINC00178230  0.160937 -0.337167  0.00172  3.10228\n",
       "1013  ZINC00166552  0.166286 -0.436370  0.00097  2.06629\n",
       "815   ZINC00158586  0.168607 -0.479088  0.00096  3.86232\n",
       "916   ZINC00161343  0.168617 -0.312596  0.00115  6.58358\n",
       "504   ZINC00115021  0.225305 -0.447553  0.00308  2.51827\n",
       "\n",
       "[1120 rows x 5 columns]"
      ]
     },
     "execution_count": 11,
     "metadata": {},
     "output_type": "execute_result"
    }
   ],
   "source": [
    "df.sort_values(by=\"q_sigma\")"
   ]
  }
 ],
 "metadata": {
  "kernelspec": {
   "display_name": "Python 3",
   "language": "python",
   "name": "python3"
  },
  "language_info": {
   "codemirror_mode": {
    "name": "ipython",
    "version": 3
   },
   "file_extension": ".py",
   "mimetype": "text/x-python",
   "name": "python",
   "nbconvert_exporter": "python",
   "pygments_lexer": "ipython3",
   "version": "3.8.3"
  }
 },
 "nbformat": 4,
 "nbformat_minor": 4
}
