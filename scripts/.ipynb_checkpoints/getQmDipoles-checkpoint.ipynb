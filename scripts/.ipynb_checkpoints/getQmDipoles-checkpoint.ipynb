{
 "cells": [
  {
   "cell_type": "code",
   "execution_count": 1,
   "metadata": {},
   "outputs": [],
   "source": [
    "import glob"
   ]
  },
  {
   "cell_type": "markdown",
   "metadata": {},
   "source": [
    "# README\n",
    "\n",
    "This notebook extracts quantum mechanical dipole moments from the Gaussian output files."
   ]
  },
  {
   "cell_type": "code",
   "execution_count": 2,
   "metadata": {},
   "outputs": [
    {
     "data": {
      "text/plain": [
       "'done'"
      ]
     },
     "execution_count": 2,
     "metadata": {},
     "output_type": "execute_result"
    }
   ],
   "source": [
    "def parseLog(mol):\n",
    "    \n",
    "    # initialize\n",
    "    dipole = None\n",
    "    \n",
    "    # read file content\n",
    "    zinc = mol.split(\"/\")[-1]\n",
    "    log = mol + f\"/{zinc}.sp.com.log\"\n",
    "    with open(log) as stream:\n",
    "        lines = stream.readlines()\n",
    "    \n",
    "    # browse file content\n",
    "    for l_id, line in enumerate(lines):\n",
    "        \n",
    "        l_spl = line.split()\n",
    "        \n",
    "        # skip short\n",
    "        if len(l_spl) == 0:\n",
    "            continue\n",
    "        \n",
    "        # mark the start of reading\n",
    "        if l_spl[0] == \"Dipole\":\n",
    "            dipole = float(lines[l_id+1].split()[-1])\n",
    "            return dipole\n",
    "        \n",
    "for halogen in \"chlorine bromine iodine\".split():\n",
    "\n",
    "    mols = sorted(glob.glob(f\"../{halogen}/ZINC*\"))\n",
    "    \n",
    "    with open(f\"../{halogen}/dipoles-qm.csv\", \"w\") as out:\n",
    "        out.write(\"mol,dipole_qm\\n\")\n",
    "        for mol in mols:\n",
    "\n",
    "            zinc = mol.split(\"/\")[-1]\n",
    "            dipole = parseLog(mol)\n",
    "\n",
    "            out.write(f\"{zinc},{dipole:.5f}\\n\")\n",
    "            \n",
    "\"done\""
   ]
  }
 ],
 "metadata": {
  "kernelspec": {
   "display_name": "Python 3",
   "language": "python",
   "name": "python3"
  },
  "language_info": {
   "codemirror_mode": {
    "name": "ipython",
    "version": 3
   },
   "file_extension": ".py",
   "mimetype": "text/x-python",
   "name": "python",
   "nbconvert_exporter": "python",
   "pygments_lexer": "ipython3",
   "version": "3.8.3"
  }
 },
 "nbformat": 4,
 "nbformat_minor": 4
}
