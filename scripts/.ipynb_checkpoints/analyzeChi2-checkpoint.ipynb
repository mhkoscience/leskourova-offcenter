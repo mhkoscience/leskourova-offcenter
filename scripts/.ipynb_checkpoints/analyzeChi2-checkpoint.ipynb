{
 "cells": [
  {
   "cell_type": "code",
   "execution_count": 1,
   "metadata": {},
   "outputs": [
    {
     "data": {
      "text/plain": [
       "'done'"
      ]
     },
     "execution_count": 1,
     "metadata": {},
     "output_type": "execute_result"
    }
   ],
   "source": [
    "%matplotlib inline\n",
    "\n",
    "import numpy as np\n",
    "import pandas as pd\n",
    "import matplotlib\n",
    "import matplotlib.pyplot as plt\n",
    "\n",
    "\"done\""
   ]
  },
  {
   "cell_type": "markdown",
   "metadata": {},
   "source": [
    "# README\n",
    "\n",
    "This notebook compare chi2 (fitting function) of mRESP and RESP."
   ]
  },
  {
   "cell_type": "code",
   "execution_count": 2,
   "metadata": {},
   "outputs": [],
   "source": [
    "# styling plots,\n",
    "matplotlib.rcParams[\"font.family\"] = \"Open Sans\"\n",
    "matplotlib.rcParams[\"font.size\"] = 6\n",
    "matplotlib.rcParams[\"lines.linewidth\"] = 1\n",
    "matplotlib.rcParams[\"axes.grid\"] = True\n",
    "matplotlib.rcParams[\"axes.grid.axis\"] = \"y\"\n",
    "matplotlib.rcParams[\"axes.spines.top\"] = False\n",
    "matplotlib.rcParams[\"axes.spines.right\"] = False\n",
    "matplotlib.rcParams[\"axes.spines.left\"] = False\n",
    "matplotlib.rcParams[\"grid.color\"] = \"grey\"\n",
    "matplotlib.rcParams[\"grid.linestyle\"] = \"dotted\""
   ]
  },
  {
   "cell_type": "code",
   "execution_count": 3,
   "metadata": {},
   "outputs": [],
   "source": [
    "# read\n",
    "std_cl = pd.read_csv(\"../chlorine/punches.csv\")\n",
    "std_br = pd.read_csv(\"../bromine/punches.csv\")\n",
    "std_i = pd.read_csv(\"../iodine/punches.csv\")\n",
    "stds = [std_cl, std_br, std_i]\n",
    "\n",
    "mod_cl = pd.read_csv(\"../chlorine/punches-mod.csv\")\n",
    "mod_br = pd.read_csv(\"../bromine/punches-mod.csv\")\n",
    "mod_i = pd.read_csv(\"../iodine/punches-mod.csv\")\n",
    "mods = [mod_cl, mod_br, mod_i]"
   ]
  },
  {
   "cell_type": "code",
   "execution_count": 4,
   "metadata": {},
   "outputs": [],
   "source": [
    "# new DFs comparing standard and modified schemes\n",
    "stderrs_cl = pd.concat([std_cl.rename(columns={\"stderr\":\"std\"})[[\"mol\",\"std\"]],\n",
    "                        mod_cl.rename(columns={\"stderr\":\"mod\"})[\"mod\"]], axis=1)\n",
    "stderrs_br = pd.concat([std_br.rename(columns={\"stderr\":\"std\"})[[\"mol\",\"std\"]],\n",
    "                        mod_br.rename(columns={\"stderr\":\"mod\"})[\"mod\"]], axis=1)\n",
    "stderrs_i = pd.concat([std_i.rename(columns={\"stderr\":\"std\"})[[\"mol\",\"std\"]],\n",
    "                       mod_i.rename(columns={\"stderr\":\"mod\"})[\"mod\"]], axis=1)"
   ]
  },
  {
   "cell_type": "markdown",
   "metadata": {},
   "source": [
    "# comparing Ch2"
   ]
  },
  {
   "cell_type": "code",
   "execution_count": 5,
   "metadata": {},
   "outputs": [
    {
     "name": "stdout",
     "output_type": "stream",
     "text": [
      "Cl 0/276 = 0.000\n"
     ]
    },
    {
     "data": {
      "text/html": [
       "<div>\n",
       "<style scoped>\n",
       "    .dataframe tbody tr th:only-of-type {\n",
       "        vertical-align: middle;\n",
       "    }\n",
       "\n",
       "    .dataframe tbody tr th {\n",
       "        vertical-align: top;\n",
       "    }\n",
       "\n",
       "    .dataframe thead th {\n",
       "        text-align: right;\n",
       "    }\n",
       "</style>\n",
       "<table border=\"1\" class=\"dataframe\">\n",
       "  <thead>\n",
       "    <tr style=\"text-align: right;\">\n",
       "      <th></th>\n",
       "      <th>mol</th>\n",
       "      <th>std</th>\n",
       "      <th>mod</th>\n",
       "    </tr>\n",
       "  </thead>\n",
       "  <tbody>\n",
       "  </tbody>\n",
       "</table>\n",
       "</div>"
      ],
      "text/plain": [
       "Empty DataFrame\n",
       "Columns: [mol, std, mod]\n",
       "Index: []"
      ]
     },
     "execution_count": 5,
     "metadata": {},
     "output_type": "execute_result"
    }
   ],
   "source": [
    "# Cl\n",
    "deter = stderrs_cl[stderrs_cl[\"std\"] <= stderrs_cl[\"mod\"]]\n",
    "print(f\"Cl {len(deter)}/{len(stderrs_cl)} = {len(deter)/len(stderrs_cl):.3f}\")\n",
    "deter.head(999)"
   ]
  },
  {
   "cell_type": "code",
   "execution_count": 6,
   "metadata": {},
   "outputs": [
    {
     "name": "stdout",
     "output_type": "stream",
     "text": [
      "Br 6/1120 = 0.005\n"
     ]
    },
    {
     "name": "stderr",
     "output_type": "stream",
     "text": [
      "<ipython-input-6-5d511a5db3aa>:3: SettingWithCopyWarning: \n",
      "A value is trying to be set on a copy of a slice from a DataFrame.\n",
      "Try using .loc[row_indexer,col_indexer] = value instead\n",
      "\n",
      "See the caveats in the documentation: https://pandas.pydata.org/pandas-docs/stable/user_guide/indexing.html#returning-a-view-versus-a-copy\n",
      "  deter[\"diff\"] = deter[\"mod\"] - deter[\"std\"]\n",
      "<ipython-input-6-5d511a5db3aa>:4: SettingWithCopyWarning: \n",
      "A value is trying to be set on a copy of a slice from a DataFrame.\n",
      "Try using .loc[row_indexer,col_indexer] = value instead\n",
      "\n",
      "See the caveats in the documentation: https://pandas.pydata.org/pandas-docs/stable/user_guide/indexing.html#returning-a-view-versus-a-copy\n",
      "  deter[\"diff_rel\"] = deter[\"diff\"] / deter[\"std\"] * 100\n"
     ]
    },
    {
     "data": {
      "text/html": [
       "<div>\n",
       "<style scoped>\n",
       "    .dataframe tbody tr th:only-of-type {\n",
       "        vertical-align: middle;\n",
       "    }\n",
       "\n",
       "    .dataframe tbody tr th {\n",
       "        vertical-align: top;\n",
       "    }\n",
       "\n",
       "    .dataframe thead th {\n",
       "        text-align: right;\n",
       "    }\n",
       "</style>\n",
       "<table border=\"1\" class=\"dataframe\">\n",
       "  <thead>\n",
       "    <tr style=\"text-align: right;\">\n",
       "      <th></th>\n",
       "      <th>mol</th>\n",
       "      <th>std</th>\n",
       "      <th>mod</th>\n",
       "      <th>diff</th>\n",
       "      <th>diff_rel</th>\n",
       "    </tr>\n",
       "  </thead>\n",
       "  <tbody>\n",
       "    <tr>\n",
       "      <th>253</th>\n",
       "      <td>ZINC00057797</td>\n",
       "      <td>0.00174</td>\n",
       "      <td>0.00178</td>\n",
       "      <td>0.00004</td>\n",
       "      <td>2.298851</td>\n",
       "    </tr>\n",
       "    <tr>\n",
       "      <th>479</th>\n",
       "      <td>ZINC00106637</td>\n",
       "      <td>0.00210</td>\n",
       "      <td>0.00220</td>\n",
       "      <td>0.00010</td>\n",
       "      <td>4.761905</td>\n",
       "    </tr>\n",
       "    <tr>\n",
       "      <th>480</th>\n",
       "      <td>ZINC00106647</td>\n",
       "      <td>0.00207</td>\n",
       "      <td>0.00218</td>\n",
       "      <td>0.00011</td>\n",
       "      <td>5.314010</td>\n",
       "    </tr>\n",
       "    <tr>\n",
       "      <th>947</th>\n",
       "      <td>ZINC00162855</td>\n",
       "      <td>0.00148</td>\n",
       "      <td>0.00173</td>\n",
       "      <td>0.00025</td>\n",
       "      <td>16.891892</td>\n",
       "    </tr>\n",
       "    <tr>\n",
       "      <th>948</th>\n",
       "      <td>ZINC00162856</td>\n",
       "      <td>0.00144</td>\n",
       "      <td>0.00170</td>\n",
       "      <td>0.00026</td>\n",
       "      <td>18.055556</td>\n",
       "    </tr>\n",
       "    <tr>\n",
       "      <th>1000</th>\n",
       "      <td>ZINC00164993</td>\n",
       "      <td>0.00192</td>\n",
       "      <td>0.00201</td>\n",
       "      <td>0.00009</td>\n",
       "      <td>4.687500</td>\n",
       "    </tr>\n",
       "  </tbody>\n",
       "</table>\n",
       "</div>"
      ],
      "text/plain": [
       "               mol      std      mod     diff   diff_rel\n",
       "253   ZINC00057797  0.00174  0.00178  0.00004   2.298851\n",
       "479   ZINC00106637  0.00210  0.00220  0.00010   4.761905\n",
       "480   ZINC00106647  0.00207  0.00218  0.00011   5.314010\n",
       "947   ZINC00162855  0.00148  0.00173  0.00025  16.891892\n",
       "948   ZINC00162856  0.00144  0.00170  0.00026  18.055556\n",
       "1000  ZINC00164993  0.00192  0.00201  0.00009   4.687500"
      ]
     },
     "execution_count": 6,
     "metadata": {},
     "output_type": "execute_result"
    }
   ],
   "source": [
    "# Br\n",
    "deter = stderrs_br[stderrs_br[\"std\"] <= stderrs_br[\"mod\"]]\n",
    "deter[\"diff\"] = deter[\"mod\"] - deter[\"std\"]\n",
    "deter[\"diff_rel\"] = deter[\"diff\"] / deter[\"std\"] * 100\n",
    "print(f\"Br {len(deter)}/{len(stderrs_br)} = {len(deter)/len(stderrs_br):.3f}\")\n",
    "deter.head(999)"
   ]
  },
  {
   "cell_type": "code",
   "execution_count": 7,
   "metadata": {},
   "outputs": [
    {
     "name": "stdout",
     "output_type": "stream",
     "text": [
      "I 4/915 = 0.004\n"
     ]
    },
    {
     "name": "stderr",
     "output_type": "stream",
     "text": [
      "<ipython-input-7-e46b9ae50f49>:3: SettingWithCopyWarning: \n",
      "A value is trying to be set on a copy of a slice from a DataFrame.\n",
      "Try using .loc[row_indexer,col_indexer] = value instead\n",
      "\n",
      "See the caveats in the documentation: https://pandas.pydata.org/pandas-docs/stable/user_guide/indexing.html#returning-a-view-versus-a-copy\n",
      "  deter[\"diff\"] = deter[\"mod\"] - deter[\"std\"]\n",
      "<ipython-input-7-e46b9ae50f49>:4: SettingWithCopyWarning: \n",
      "A value is trying to be set on a copy of a slice from a DataFrame.\n",
      "Try using .loc[row_indexer,col_indexer] = value instead\n",
      "\n",
      "See the caveats in the documentation: https://pandas.pydata.org/pandas-docs/stable/user_guide/indexing.html#returning-a-view-versus-a-copy\n",
      "  deter[\"diff_rel\"] = deter[\"diff\"] / deter[\"std\"] * 100\n"
     ]
    },
    {
     "data": {
      "text/html": [
       "<div>\n",
       "<style scoped>\n",
       "    .dataframe tbody tr th:only-of-type {\n",
       "        vertical-align: middle;\n",
       "    }\n",
       "\n",
       "    .dataframe tbody tr th {\n",
       "        vertical-align: top;\n",
       "    }\n",
       "\n",
       "    .dataframe thead th {\n",
       "        text-align: right;\n",
       "    }\n",
       "</style>\n",
       "<table border=\"1\" class=\"dataframe\">\n",
       "  <thead>\n",
       "    <tr style=\"text-align: right;\">\n",
       "      <th></th>\n",
       "      <th>mol</th>\n",
       "      <th>std</th>\n",
       "      <th>mod</th>\n",
       "      <th>diff</th>\n",
       "      <th>diff_rel</th>\n",
       "    </tr>\n",
       "  </thead>\n",
       "  <tbody>\n",
       "    <tr>\n",
       "      <th>99</th>\n",
       "      <td>ZINC00086079</td>\n",
       "      <td>0.00144</td>\n",
       "      <td>0.00145</td>\n",
       "      <td>0.00001</td>\n",
       "      <td>0.694444</td>\n",
       "    </tr>\n",
       "    <tr>\n",
       "      <th>119</th>\n",
       "      <td>ZINC00106654</td>\n",
       "      <td>0.00192</td>\n",
       "      <td>0.00203</td>\n",
       "      <td>0.00011</td>\n",
       "      <td>5.729167</td>\n",
       "    </tr>\n",
       "    <tr>\n",
       "      <th>120</th>\n",
       "      <td>ZINC00106663</td>\n",
       "      <td>0.00183</td>\n",
       "      <td>0.00196</td>\n",
       "      <td>0.00013</td>\n",
       "      <td>7.103825</td>\n",
       "    </tr>\n",
       "    <tr>\n",
       "      <th>438</th>\n",
       "      <td>ZINC00334503</td>\n",
       "      <td>0.00136</td>\n",
       "      <td>0.00148</td>\n",
       "      <td>0.00012</td>\n",
       "      <td>8.823529</td>\n",
       "    </tr>\n",
       "  </tbody>\n",
       "</table>\n",
       "</div>"
      ],
      "text/plain": [
       "              mol      std      mod     diff  diff_rel\n",
       "99   ZINC00086079  0.00144  0.00145  0.00001  0.694444\n",
       "119  ZINC00106654  0.00192  0.00203  0.00011  5.729167\n",
       "120  ZINC00106663  0.00183  0.00196  0.00013  7.103825\n",
       "438  ZINC00334503  0.00136  0.00148  0.00012  8.823529"
      ]
     },
     "execution_count": 7,
     "metadata": {},
     "output_type": "execute_result"
    }
   ],
   "source": [
    "# I\n",
    "deter = stderrs_i[stderrs_i[\"std\"] <= stderrs_i[\"mod\"]]\n",
    "deter[\"diff\"] = deter[\"mod\"] - deter[\"std\"]\n",
    "deter[\"diff_rel\"] = deter[\"diff\"] / deter[\"std\"] * 100\n",
    "print(f\"I {len(deter)}/{len(stderrs_i)} = {len(deter)/len(stderrs_i):.3f}\")\n",
    "deter.head(999)"
   ]
  }
 ],
 "metadata": {
  "kernelspec": {
   "display_name": "Python 3",
   "language": "python",
   "name": "python3"
  },
  "language_info": {
   "codemirror_mode": {
    "name": "ipython",
    "version": 3
   },
   "file_extension": ".py",
   "mimetype": "text/x-python",
   "name": "python",
   "nbconvert_exporter": "python",
   "pygments_lexer": "ipython3",
   "version": "3.8.3"
  }
 },
 "nbformat": 4,
 "nbformat_minor": 4
}
