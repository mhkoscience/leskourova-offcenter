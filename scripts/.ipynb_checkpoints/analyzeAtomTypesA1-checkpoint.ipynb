{
 "cells": [
  {
   "cell_type": "code",
   "execution_count": 1,
   "metadata": {},
   "outputs": [
    {
     "data": {
      "text/plain": [
       "'done'"
      ]
     },
     "execution_count": 1,
     "metadata": {},
     "output_type": "execute_result"
    }
   ],
   "source": [
    "%matplotlib inline\n",
    "\n",
    "import numpy as np\n",
    "import pandas as pd\n",
    "import matplotlib\n",
    "import matplotlib.pyplot as plt\n",
    "\n",
    "\"done\""
   ]
  },
  {
   "cell_type": "markdown",
   "metadata": {},
   "source": [
    "# README\n",
    "\n",
    "This notebook analyses the atom types of the atom covalently bound to the halogen."
   ]
  },
  {
   "cell_type": "code",
   "execution_count": 2,
   "metadata": {},
   "outputs": [
    {
     "data": {
      "text/plain": [
       "'done'"
      ]
     },
     "execution_count": 2,
     "metadata": {},
     "output_type": "execute_result"
    }
   ],
   "source": [
    "# read\n",
    "dfs = {\"cl\": pd.read_csv(\"../chlorine/nbonds.csv\"),\n",
    "        \"br\": pd.read_csv(\"../bromine/nbonds.csv\"),\n",
    "        \"i\": pd.read_csv(\"../iodine/nbonds.csv\")}\n",
    "\"done\""
   ]
  },
  {
   "cell_type": "code",
   "execution_count": 3,
   "metadata": {},
   "outputs": [
    {
     "data": {
      "text/html": [
       "<div>\n",
       "<style scoped>\n",
       "    .dataframe tbody tr th:only-of-type {\n",
       "        vertical-align: middle;\n",
       "    }\n",
       "\n",
       "    .dataframe tbody tr th {\n",
       "        vertical-align: top;\n",
       "    }\n",
       "\n",
       "    .dataframe thead th {\n",
       "        text-align: right;\n",
       "    }\n",
       "</style>\n",
       "<table border=\"1\" class=\"dataframe\">\n",
       "  <thead>\n",
       "    <tr style=\"text-align: right;\">\n",
       "      <th></th>\n",
       "      <th>mol</th>\n",
       "      <th>n_atoms</th>\n",
       "      <th>max_dist</th>\n",
       "      <th>type1</th>\n",
       "      <th>d0num</th>\n",
       "      <th>d0mean</th>\n",
       "      <th>d0std</th>\n",
       "      <th>d1num</th>\n",
       "      <th>d1mean</th>\n",
       "      <th>d1std</th>\n",
       "      <th>d2num</th>\n",
       "      <th>d2mean</th>\n",
       "      <th>d2std</th>\n",
       "      <th>d3num</th>\n",
       "      <th>d3mean</th>\n",
       "      <th>d3std</th>\n",
       "      <th>d4num</th>\n",
       "      <th>d4mean</th>\n",
       "      <th>d4std</th>\n",
       "    </tr>\n",
       "  </thead>\n",
       "  <tbody>\n",
       "    <tr>\n",
       "      <th>0</th>\n",
       "      <td>ZINC00000061</td>\n",
       "      <td>27</td>\n",
       "      <td>9</td>\n",
       "      <td>ca</td>\n",
       "      <td>1</td>\n",
       "      <td>-0.22250</td>\n",
       "      <td>NaN</td>\n",
       "      <td>1</td>\n",
       "      <td>0.27989</td>\n",
       "      <td>NaN</td>\n",
       "      <td>2</td>\n",
       "      <td>-0.12203</td>\n",
       "      <td>0.00000</td>\n",
       "      <td>4</td>\n",
       "      <td>0.01627</td>\n",
       "      <td>0.02706</td>\n",
       "      <td>3</td>\n",
       "      <td>0.00455</td>\n",
       "      <td>0.00931</td>\n",
       "    </tr>\n",
       "    <tr>\n",
       "      <th>1</th>\n",
       "      <td>ZINC00000134</td>\n",
       "      <td>24</td>\n",
       "      <td>6</td>\n",
       "      <td>c3</td>\n",
       "      <td>1</td>\n",
       "      <td>-0.14603</td>\n",
       "      <td>NaN</td>\n",
       "      <td>1</td>\n",
       "      <td>0.34186</td>\n",
       "      <td>NaN</td>\n",
       "      <td>3</td>\n",
       "      <td>-0.09519</td>\n",
       "      <td>0.01613</td>\n",
       "      <td>4</td>\n",
       "      <td>0.00345</td>\n",
       "      <td>0.01036</td>\n",
       "      <td>5</td>\n",
       "      <td>0.01162</td>\n",
       "      <td>0.01628</td>\n",
       "    </tr>\n",
       "    <tr>\n",
       "      <th>2</th>\n",
       "      <td>ZINC00000135</td>\n",
       "      <td>25</td>\n",
       "      <td>11</td>\n",
       "      <td>ca</td>\n",
       "      <td>1</td>\n",
       "      <td>-0.20457</td>\n",
       "      <td>NaN</td>\n",
       "      <td>1</td>\n",
       "      <td>0.24507</td>\n",
       "      <td>NaN</td>\n",
       "      <td>2</td>\n",
       "      <td>-0.10120</td>\n",
       "      <td>0.00000</td>\n",
       "      <td>4</td>\n",
       "      <td>0.01046</td>\n",
       "      <td>0.02757</td>\n",
       "      <td>3</td>\n",
       "      <td>0.01004</td>\n",
       "      <td>0.00256</td>\n",
       "    </tr>\n",
       "    <tr>\n",
       "      <th>3</th>\n",
       "      <td>ZINC00000136</td>\n",
       "      <td>29</td>\n",
       "      <td>13</td>\n",
       "      <td>ca</td>\n",
       "      <td>1</td>\n",
       "      <td>-0.21023</td>\n",
       "      <td>NaN</td>\n",
       "      <td>1</td>\n",
       "      <td>0.26162</td>\n",
       "      <td>NaN</td>\n",
       "      <td>2</td>\n",
       "      <td>-0.11643</td>\n",
       "      <td>0.00000</td>\n",
       "      <td>4</td>\n",
       "      <td>0.01741</td>\n",
       "      <td>0.02371</td>\n",
       "      <td>3</td>\n",
       "      <td>0.00648</td>\n",
       "      <td>0.00096</td>\n",
       "    </tr>\n",
       "    <tr>\n",
       "      <th>4</th>\n",
       "      <td>ZINC00000178</td>\n",
       "      <td>31</td>\n",
       "      <td>8</td>\n",
       "      <td>ca</td>\n",
       "      <td>1</td>\n",
       "      <td>-0.18029</td>\n",
       "      <td>NaN</td>\n",
       "      <td>1</td>\n",
       "      <td>0.21008</td>\n",
       "      <td>NaN</td>\n",
       "      <td>2</td>\n",
       "      <td>-0.09254</td>\n",
       "      <td>0.01380</td>\n",
       "      <td>4</td>\n",
       "      <td>0.01325</td>\n",
       "      <td>0.01790</td>\n",
       "      <td>6</td>\n",
       "      <td>0.00168</td>\n",
       "      <td>0.01389</td>\n",
       "    </tr>\n",
       "  </tbody>\n",
       "</table>\n",
       "</div>"
      ],
      "text/plain": [
       "            mol  n_atoms  max_dist type1  d0num   d0mean  d0std  d1num  \\\n",
       "0  ZINC00000061       27         9    ca      1 -0.22250    NaN      1   \n",
       "1  ZINC00000134       24         6    c3      1 -0.14603    NaN      1   \n",
       "2  ZINC00000135       25        11    ca      1 -0.20457    NaN      1   \n",
       "3  ZINC00000136       29        13    ca      1 -0.21023    NaN      1   \n",
       "4  ZINC00000178       31         8    ca      1 -0.18029    NaN      1   \n",
       "\n",
       "    d1mean  d1std  d2num   d2mean    d2std  d3num   d3mean    d3std  d4num  \\\n",
       "0  0.27989    NaN      2 -0.12203  0.00000      4  0.01627  0.02706      3   \n",
       "1  0.34186    NaN      3 -0.09519  0.01613      4  0.00345  0.01036      5   \n",
       "2  0.24507    NaN      2 -0.10120  0.00000      4  0.01046  0.02757      3   \n",
       "3  0.26162    NaN      2 -0.11643  0.00000      4  0.01741  0.02371      3   \n",
       "4  0.21008    NaN      2 -0.09254  0.01380      4  0.01325  0.01790      6   \n",
       "\n",
       "    d4mean    d4std  \n",
       "0  0.00455  0.00931  \n",
       "1  0.01162  0.01628  \n",
       "2  0.01004  0.00256  \n",
       "3  0.00648  0.00096  \n",
       "4  0.00168  0.01389  "
      ]
     },
     "execution_count": 3,
     "metadata": {},
     "output_type": "execute_result"
    }
   ],
   "source": [
    "dfs[\"cl\"].head()"
   ]
  },
  {
   "cell_type": "code",
   "execution_count": 4,
   "metadata": {},
   "outputs": [
    {
     "data": {
      "text/html": [
       "<div>\n",
       "<style scoped>\n",
       "    .dataframe tbody tr th:only-of-type {\n",
       "        vertical-align: middle;\n",
       "    }\n",
       "\n",
       "    .dataframe tbody tr th {\n",
       "        vertical-align: top;\n",
       "    }\n",
       "\n",
       "    .dataframe thead th {\n",
       "        text-align: right;\n",
       "    }\n",
       "</style>\n",
       "<table border=\"1\" class=\"dataframe\">\n",
       "  <thead>\n",
       "    <tr style=\"text-align: right;\">\n",
       "      <th></th>\n",
       "      <th>mol</th>\n",
       "      <th>n_atoms</th>\n",
       "      <th>max_dist</th>\n",
       "      <th>type1</th>\n",
       "      <th>d0num</th>\n",
       "      <th>d0mean</th>\n",
       "      <th>d0std</th>\n",
       "      <th>d1num</th>\n",
       "      <th>d1mean</th>\n",
       "      <th>d1std</th>\n",
       "      <th>d2num</th>\n",
       "      <th>d2mean</th>\n",
       "      <th>d2std</th>\n",
       "      <th>d3num</th>\n",
       "      <th>d3mean</th>\n",
       "      <th>d3std</th>\n",
       "      <th>d4num</th>\n",
       "      <th>d4mean</th>\n",
       "      <th>d4std</th>\n",
       "    </tr>\n",
       "  </thead>\n",
       "  <tbody>\n",
       "    <tr>\n",
       "      <th>877</th>\n",
       "      <td>ZINC00967270</td>\n",
       "      <td>11</td>\n",
       "      <td>6</td>\n",
       "      <td>ca</td>\n",
       "      <td>1</td>\n",
       "      <td>-0.44617</td>\n",
       "      <td>NaN</td>\n",
       "      <td>1</td>\n",
       "      <td>0.67026</td>\n",
       "      <td>NaN</td>\n",
       "      <td>2</td>\n",
       "      <td>-0.35907</td>\n",
       "      <td>0.0</td>\n",
       "      <td>4</td>\n",
       "      <td>0.091</td>\n",
       "      <td>0.00125</td>\n",
       "      <td>1</td>\n",
       "      <td>-0.08397</td>\n",
       "      <td>NaN</td>\n",
       "    </tr>\n",
       "  </tbody>\n",
       "</table>\n",
       "</div>"
      ],
      "text/plain": [
       "              mol  n_atoms  max_dist type1  d0num   d0mean  d0std  d1num  \\\n",
       "877  ZINC00967270       11         6    ca      1 -0.44617    NaN      1   \n",
       "\n",
       "      d1mean  d1std  d2num   d2mean  d2std  d3num  d3mean    d3std  d4num  \\\n",
       "877  0.67026    NaN      2 -0.35907    0.0      4   0.091  0.00125      1   \n",
       "\n",
       "      d4mean  d4std  \n",
       "877 -0.08397    NaN  "
      ]
     },
     "execution_count": 4,
     "metadata": {},
     "output_type": "execute_result"
    }
   ],
   "source": [
    "df = dfs[\"i\"]\n",
    "df[df[\"n_atoms\"] == 11]"
   ]
  },
  {
   "cell_type": "markdown",
   "metadata": {},
   "source": [
    "# Atom Types"
   ]
  },
  {
   "cell_type": "code",
   "execution_count": 5,
   "metadata": {},
   "outputs": [
    {
     "name": "stdout",
     "output_type": "stream",
     "text": [
      "--- cl\n",
      "ca    225\n",
      "c3     28\n",
      "cd     12\n",
      "cc      9\n",
      "cf      1\n",
      "c2      1\n",
      "Name: type1, dtype: int64\n",
      "--- br\n",
      "ca    749\n",
      "c3    178\n",
      "cd    105\n",
      "cc     73\n",
      "c2      6\n",
      "cf      5\n",
      "ce      2\n",
      "c1      1\n",
      "cx      1\n",
      "Name: type1, dtype: int64\n",
      "--- i\n",
      "ca    778\n",
      "cd     74\n",
      "cc     39\n",
      "c3     22\n",
      "c1      1\n",
      "c2      1\n",
      "Name: type1, dtype: int64\n"
     ]
    }
   ],
   "source": [
    "hals = \"cl br i\".split()\n",
    "\n",
    "for hal in hals:\n",
    "    df = dfs[hal]\n",
    "    \n",
    "    print(\"---\", hal)\n",
    "    print(df[\"type1\"].value_counts())\n"
   ]
  },
  {
   "cell_type": "code",
   "execution_count": 6,
   "metadata": {},
   "outputs": [
    {
     "name": "stdout",
     "output_type": "stream",
     "text": [
      "sp3 cl 28/276) = 0.1014\n",
      "sp3 br 179/1120) = 0.1598\n",
      "sp3 i 22/915) = 0.0240\n",
      "229/2311 = 0.0991\n"
     ]
    }
   ],
   "source": [
    "# initialize\n",
    "hals = \"cl br i\".split()\n",
    "sum_all = 0\n",
    "sum_sp3 = 0\n",
    "\n",
    "for hal in hals:\n",
    "    df = dfs[hal]\n",
    "    \n",
    "    sp3 = df[df[\"type1\"] == \"c3\"] + df[df[\"type1\"] == \"cx\"]\n",
    "    sp3_fraction = len(sp3) / len(df)\n",
    "    \n",
    "    print(\"sp3\", hal, f\"{len(sp3):.0f}/{len(df):.0f}) = {sp3_fraction:.4f}\")\n",
    "    \n",
    "    sum_all += len(df)\n",
    "    sum_sp3 += len(sp3)\n",
    "    \n",
    "print(f\"{sum_sp3:.0f}/{sum_all:.0f} = {sum_sp3/sum_all:.4f}\")"
   ]
  },
  {
   "cell_type": "markdown",
   "metadata": {},
   "source": [
    "# Number of atoms"
   ]
  },
  {
   "cell_type": "code",
   "execution_count": 7,
   "metadata": {},
   "outputs": [
    {
     "name": "stdout",
     "output_type": "stream",
     "text": [
      "cl 26.0\n",
      "br 24.0\n",
      "i 27.0\n"
     ]
    }
   ],
   "source": [
    "n_atoms_all = []\n",
    "\n",
    "for hal in hals:\n",
    "    df = dfs[hal]\n",
    "    \n",
    "    n_atoms = df[\"n_atoms\"]\n",
    "    \n",
    "    print(hal, np.median(n_atoms))\n",
    "    \n",
    "    n_atoms_all.append(n_atoms)"
   ]
  },
  {
   "cell_type": "code",
   "execution_count": 8,
   "metadata": {},
   "outputs": [
    {
     "name": "stdout",
     "output_type": "stream",
     "text": [
      "(3,)\n",
      "(2311,)\n",
      "all 26.0\n"
     ]
    }
   ],
   "source": [
    "print(np.shape(n_atoms_all))\n",
    "n_atoms_all = np.concatenate(n_atoms_all)\n",
    "print(np.shape(n_atoms_all))\n",
    "print(\"all\", np.median(n_atoms_all))"
   ]
  }
 ],
 "metadata": {
  "kernelspec": {
   "display_name": "Python 3",
   "language": "python",
   "name": "python3"
  },
  "language_info": {
   "codemirror_mode": {
    "name": "ipython",
    "version": 3
   },
   "file_extension": ".py",
   "mimetype": "text/x-python",
   "name": "python",
   "nbconvert_exporter": "python",
   "pygments_lexer": "ipython3",
   "version": "3.8.3"
  }
 },
 "nbformat": 4,
 "nbformat_minor": 4
}
