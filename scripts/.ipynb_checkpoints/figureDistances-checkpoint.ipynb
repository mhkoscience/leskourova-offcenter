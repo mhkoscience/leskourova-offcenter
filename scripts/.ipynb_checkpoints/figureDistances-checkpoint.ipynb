{
 "cells": [
  {
   "cell_type": "code",
   "execution_count": 1,
   "metadata": {},
   "outputs": [
    {
     "data": {
      "text/plain": [
       "'done'"
      ]
     },
     "execution_count": 1,
     "metadata": {},
     "output_type": "execute_result"
    }
   ],
   "source": [
    "%matplotlib inline\n",
    "\n",
    "import glob\n",
    "import numpy as np\n",
    "import pandas as pd\n",
    "import matplotlib\n",
    "import matplotlib.pyplot as plt\n",
    "\n",
    "\"done\""
   ]
  },
  {
   "cell_type": "markdown",
   "metadata": {},
   "source": [
    "# README\n",
    "\n",
    "This notebook plots q(mRESP) - q(RESP) of an atom as a function of Euclidean distance between the atom and halogen."
   ]
  },
  {
   "cell_type": "code",
   "execution_count": 2,
   "metadata": {},
   "outputs": [
    {
     "data": {
      "text/plain": [
       "'done'"
      ]
     },
     "execution_count": 2,
     "metadata": {},
     "output_type": "execute_result"
    }
   ],
   "source": [
    "halogens = \"chlorine bromine iodine\".split()\n",
    "\n",
    "# initialize containers\n",
    "distances = {}\n",
    "diffs = {}\n",
    "\n",
    "for halogen in halogens:\n",
    "    \n",
    "    dirs = sorted(glob.glob(f\"../{halogen}/ZINC*\"))\n",
    "    \n",
    "    distances[halogen] = []\n",
    "    diffs[halogen] = []\n",
    "    \n",
    "    for dir_ in dirs:\n",
    "        \n",
    "        df = pd.read_csv(dir_ + \"/overview.csv\")\n",
    "        \n",
    "        distances[halogen] += list(df[\"distance\"])\n",
    "        diffs[halogen] += list(df[\"q_mod\"] - df[\"q_std\"])\n",
    "        \n",
    "\"done\""
   ]
  },
  {
   "cell_type": "code",
   "execution_count": 3,
   "metadata": {},
   "outputs": [
    {
     "data": {
      "text/plain": [
       "'done'"
      ]
     },
     "execution_count": 3,
     "metadata": {},
     "output_type": "execute_result"
    }
   ],
   "source": [
    "for halogen in halogens:\n",
    "    with open(f\"../{halogen}/euclidean.csv\", \"w\") as out:\n",
    "        out.write(\"distance,dq\\n\")\n",
    "        \n",
    "        for distance, diff in zip(distances[halogen], diffs[halogen]):\n",
    "            out.write(f\"{distance:.5f},{diff:.5f}\\n\")\n",
    "\"done\""
   ]
  },
  {
   "cell_type": "code",
   "execution_count": 4,
   "metadata": {},
   "outputs": [],
   "source": [
    "# styling plots,\n",
    "matplotlib.rcParams[\"font.family\"] = \"Open Sans\"\n",
    "matplotlib.rcParams[\"font.size\"] = 6\n",
    "matplotlib.rcParams[\"lines.linewidth\"] = 1\n",
    "matplotlib.rcParams[\"axes.grid\"] = True\n",
    "matplotlib.rcParams[\"axes.grid.axis\"] = \"y\"\n",
    "matplotlib.rcParams[\"axes.spines.top\"] = False\n",
    "matplotlib.rcParams[\"axes.spines.right\"] = False\n",
    "matplotlib.rcParams[\"axes.spines.left\"] = False\n",
    "matplotlib.rcParams[\"grid.color\"] = \"grey\"\n",
    "matplotlib.rcParams[\"grid.linestyle\"] = \"dotted\""
   ]
  },
  {
   "cell_type": "code",
   "execution_count": 5,
   "metadata": {},
   "outputs": [
    {
     "data": {
      "image/png": "[encoded data removed]",
      "text/plain": [
       "<Figure size 288x108 with 3 Axes>"
      ]
     },
     "metadata": {
      "needs_background": "light"
     },
     "output_type": "display_data"
    }
   ],
   "source": [
    "# some setup\n",
    "colors = \"black dodgerblue tomato\".split()\n",
    "\n",
    "# initialize figure\n",
    "fig, axs = plt.subplots(ncols=3, nrows=1, figsize=(4,1.5), sharey=True)\n",
    "\n",
    "for hal_id, hal in enumerate(halogens):\n",
    "    df = pd.read_csv(f\"../{hal}/euclidean.csv\")\n",
    "    \n",
    "    ax = axs[hal_id]\n",
    "    \n",
    "    # plot\n",
    "    ax.scatter(df[\"distance\"], df[\"dq\"], color=colors[hal_id], s=1, alpha=0.05, rasterized=True)\n",
    "    \n",
    "    # layout\n",
    "    ax.set_xlim(-0.1,15)\n",
    "    ax.set_xlabel(\"distance / Å\")\n",
    "    ax.tick_params(length=0, axis=\"y\")\n",
    "    ax.set_title(hal.capitalize())\n",
    "    \n",
    "    if hal_id == 0:\n",
    "        ax.set_ylabel(\"Δq / e\")\n",
    "        ax.set_ylim(-0.5,0.6)\n",
    "\n",
    "plt.tight_layout()\n",
    "for ext in \"png pdf\".split():\n",
    "    plt.savefig(f\"../dq-vs-eucledian.{ext}\", dpi=300)"
   ]
  }
 ],
 "metadata": {
  "kernelspec": {
   "display_name": "Python 3",
   "language": "python",
   "name": "python3"
  },
  "language_info": {
   "codemirror_mode": {
    "name": "ipython",
    "version": 3
   },
   "file_extension": ".py",
   "mimetype": "text/x-python",
   "name": "python",
   "nbconvert_exporter": "python",
   "pygments_lexer": "ipython3",
   "version": "3.8.3"
  }
 },
 "nbformat": 4,
 "nbformat_minor": 4
}
