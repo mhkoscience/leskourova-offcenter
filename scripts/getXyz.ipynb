{
 "cells": [
  {
   "cell_type": "code",
   "execution_count": 1,
   "metadata": {},
   "outputs": [],
   "source": [
    "import glob"
   ]
  },
  {
   "cell_type": "markdown",
   "metadata": {},
   "source": [
    "# README\n",
    "\n",
    "This notebook creates XYZ file from the resp output file. The XYZ then contains the pseudo-atom mimicking the sigma-hole. "
   ]
  },
  {
   "cell_type": "code",
   "execution_count": 2,
   "metadata": {},
   "outputs": [
    {
     "data": {
      "text/plain": [
       "{1: 'H',\n",
       " 6: 'C',\n",
       " 7: 'N',\n",
       " 8: 'O',\n",
       " 9: 'F',\n",
       " 15: 'P',\n",
       " 16: 'S',\n",
       " 17: 'Cl',\n",
       " 35: 'Br',\n",
       " 53: 'I',\n",
       " 0: 'X'}"
      ]
     },
     "execution_count": 2,
     "metadata": {},
     "output_type": "execute_result"
    }
   ],
   "source": [
    "bohr2ang = 0.529177249\n",
    "numbers = [1, 6, 7, 8, 9, 15, 16, 17, 35, 53, 0]\n",
    "names = \"H C N O F P S Cl Br I X\".split()\n",
    "number2name = dict(zip(numbers, names))\n",
    "number2name"
   ]
  },
  {
   "cell_type": "code",
   "execution_count": 3,
   "metadata": {},
   "outputs": [
    {
     "data": {
      "text/plain": [
       "'done'"
      ]
     },
     "execution_count": 3,
     "metadata": {},
     "output_type": "execute_result"
    }
   ],
   "source": [
    "def convertOutputToXyz(mol):\n",
    "    \n",
    "    # files\n",
    "    in_file = mol + \"/mod2/output\"\n",
    "    out_file = mol + \"/mod2/mol.xyz\"\n",
    "    \n",
    "    # read input\n",
    "    with open(in_file) as stream:\n",
    "        lines = stream.readlines()\n",
    "\n",
    "    # parse input\n",
    "    n_atoms = int(lines[16].split()[-1])\n",
    "    atomic_numbers = [int(i.split()[1]) for i in lines[17:17+n_atoms]]\n",
    "    line_start = 41+2*n_atoms\n",
    "    line_end = line_start + n_atoms\n",
    "    coords = []\n",
    "    for line in lines[line_start:line_end]:\n",
    "        i, x, y, z = line.split()\n",
    "        coords.append([float(x)*bohr2ang, float(y)*bohr2ang, float(z)*bohr2ang])\n",
    "    \n",
    "    with open(out_file, \"w\") as out:\n",
    "        out.write(f\"{n_atoms:.0f}\\n\")\n",
    "        out.write(\"written by output2xyz.ipynb\\n\")\n",
    "        for atomic_number, coord in zip(atomic_numbers, coords):\n",
    "            atom_name = number2name[atomic_number]\n",
    "            x, y, z = coord\n",
    "            out.write(f\"{atom_name:3}{x:10.5f}{y:10.5f}{z:10.5f}\\n\")\n",
    "    \n",
    "    \n",
    "for halogen in \"chlorine bromine iodine\".split():\n",
    "\n",
    "    mols = sorted(glob.glob(f\"../{halogen}/ZINC*\"))\n",
    "    for mol in mols:\n",
    "\n",
    "        convertOutputToXyz(mol)\n",
    "\n",
    "\"done\""
   ]
  }
 ],
 "metadata": {
  "kernelspec": {
   "display_name": "Python 3",
   "language": "python",
   "name": "python3"
  },
  "language_info": {
   "codemirror_mode": {
    "name": "ipython",
    "version": 3
   },
   "file_extension": ".py",
   "mimetype": "text/x-python",
   "name": "python",
   "nbconvert_exporter": "python",
   "pygments_lexer": "ipython3",
   "version": "3.8.3"
  }
 },
 "nbformat": 4,
 "nbformat_minor": 4
}
