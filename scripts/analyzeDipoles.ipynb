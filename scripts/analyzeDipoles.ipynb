{
 "cells": [
  {
   "cell_type": "code",
   "execution_count": 1,
   "metadata": {},
   "outputs": [
    {
     "data": {
      "text/plain": [
       "'done'"
      ]
     },
     "execution_count": 1,
     "metadata": {},
     "output_type": "execute_result"
    }
   ],
   "source": [
    "%matplotlib inline\n",
    "\n",
    "import numpy as np\n",
    "import pandas as pd\n",
    "import matplotlib\n",
    "import matplotlib.pyplot as plt\n",
    "\n",
    "\"done\""
   ]
  },
  {
   "cell_type": "markdown",
   "metadata": {},
   "source": [
    "# README\n",
    "\n",
    "This notebook compares dipole moments calculated by RESP or mRESP with the QM values."
   ]
  },
  {
   "cell_type": "markdown",
   "metadata": {},
   "source": [
    "## read all the stuff and reorganize"
   ]
  },
  {
   "cell_type": "code",
   "execution_count": 2,
   "metadata": {},
   "outputs": [
    {
     "data": {
      "text/plain": [
       "'done'"
      ]
     },
     "execution_count": 2,
     "metadata": {},
     "output_type": "execute_result"
    }
   ],
   "source": [
    "\n",
    "std_cl = pd.read_csv(\"../chlorine/punches.csv\")\n",
    "std_br = pd.read_csv(\"../bromine/punches.csv\")\n",
    "std_i = pd.read_csv(\"../iodine/punches.csv\")\n",
    "\n",
    "mod_cl = pd.read_csv(\"../chlorine/punches-mod.csv\")\n",
    "mod_br = pd.read_csv(\"../bromine/punches-mod.csv\")\n",
    "mod_i = pd.read_csv(\"../iodine/punches-mod.csv\")\n",
    "\n",
    "qm_cl = pd.read_csv(\"../chlorine/dipoles-qm.csv\")\n",
    "qm_br = pd.read_csv(\"../bromine/dipoles-qm.csv\")\n",
    "qm_i = pd.read_csv(\"../iodine/dipoles-qm.csv\")\n",
    "\n",
    "nbonds_cl = pd.read_csv(\"../chlorine/nbonds.csv\")\n",
    "nbonds_br = pd.read_csv(\"../bromine/nbonds.csv\")\n",
    "nbonds_i = pd.read_csv(\"../iodine/nbonds.csv\")\n",
    "\n",
    "\n",
    "\n",
    "# danger!\n",
    "# More readable, but assumes same ordering of molecules.\n",
    "# No error thrown if non-equal lenghts of Series\n",
    "assert len(std_cl[\"mol\"]) == len(mod_cl[\"dipole\"]) == len(qm_cl[\"dipole_qm\"]) == len(nbonds_cl[\"type1\"])\n",
    "dipoles_cl = pd.DataFrame({\"mol\": std_cl[\"mol\"],\n",
    "                           \"std\": std_cl[\"dipole\"],\n",
    "                           \"mod\": mod_cl[\"dipole\"],\n",
    "                           \"qm\": qm_cl[\"dipole_qm\"],\n",
    "                           \"at_type\": nbonds_cl[\"type1\"],\n",
    "                           \"n_atoms\": nbonds_cl[\"n_atoms\"]\n",
    "                         })\n",
    "\n",
    "\n",
    "assert len(std_br[\"mol\"]) == len(mod_br[\"dipole\"]) == len(qm_br[\"dipole_qm\"]) == len(nbonds_br[\"type1\"])\n",
    "dipoles_br = pd.DataFrame({\"mol\": std_br[\"mol\"],\n",
    "                           \"std\": std_br[\"dipole\"],\n",
    "                           \"mod\": mod_br[\"dipole\"],\n",
    "                           \"qm\": qm_br[\"dipole_qm\"],\n",
    "                           \"at_type\": nbonds_br[\"type1\"],\n",
    "                           \"n_atoms\": nbonds_br[\"n_atoms\"]\n",
    "                         })\n",
    "\n",
    "\n",
    "assert len(std_i[\"mol\"]) == len(mod_i[\"dipole\"]) == len(qm_i[\"dipole_qm\"]) == len(nbonds_i[\"type1\"])\n",
    "dipoles_i = pd.DataFrame({\"mol\": std_i[\"mol\"],\n",
    "                           \"std\": std_i[\"dipole\"],\n",
    "                           \"mod\": mod_i[\"dipole\"],\n",
    "                           \"qm\": qm_i[\"dipole_qm\"],\n",
    "                           \"at_type\": nbonds_i[\"type1\"],\n",
    "                           \"n_atoms\": nbonds_i[\"n_atoms\"]\n",
    "                         })\n",
    "\n",
    "dipoles = [dipoles_cl, dipoles_br, dipoles_i]\n",
    "halogens = \"cl br i\".split()\n",
    "\n",
    "\"done\""
   ]
  },
  {
   "cell_type": "markdown",
   "metadata": {},
   "source": [
    "# analyze"
   ]
  },
  {
   "cell_type": "code",
   "execution_count": 3,
   "metadata": {},
   "outputs": [
    {
     "name": "stdout",
     "output_type": "stream",
     "text": [
      "mRESP yields better dipole than RESP:\n",
      "\n",
      "cl {'ca': 164, 'c3': 14, 'cd': 9, 'cc': 4, 'cf': 1, 'c2': 1}\n",
      "cl 193 / 276 = 69.93%\n",
      "\n",
      "br {'ca': 605, 'c3': 131, 'cd': 80, 'cc': 63, 'c2': 4, 'cf': 2, 'cx': 1}\n",
      "br 886 / 1120 = 79.11%\n",
      "\n",
      "i {'ca': 638, 'cd': 56, 'cc': 25, 'c3': 17, 'c2': 1}\n",
      "i 737 / 915 = 80.55%\n",
      "\n"
     ]
    }
   ],
   "source": [
    "print(\"mRESP yields better dipole than RESP:\\n\")\n",
    "counts_mil = {}\n",
    "list_mil = []\n",
    "fractions_mil = []\n",
    "\n",
    "for i in range(len(dipoles)):\n",
    "    df = dipoles[i]\n",
    "    halogen = halogens[i]\n",
    "    \n",
    "    # unsigned deviations\n",
    "    diff = (df[\"qm\"] - df[\"std\"]).abs()\n",
    "    diff_m = (df[\"qm\"] - df[\"mod\"]).abs()\n",
    "    df[\"diff\"] = diff\n",
    "    df[\"diff_m\"] = diff_m        \n",
    "    \n",
    "    # subsets according to the\n",
    "    m_is_lower = df[df[\"diff_m\"] < df[\"diff\"]] # mil\n",
    "    m_is_higher = df[df[\"diff_m\"] > df[\"diff\"]]\n",
    "    m_is_equal = df[df[\"diff_m\"] == df[\"diff\"]]\n",
    "    \n",
    "    # get counts per atom type\n",
    "    counts = m_is_lower[\"at_type\"].value_counts().to_dict()\n",
    "    \n",
    "    # update overall dictionary \n",
    "    for k, v in counts.items():\n",
    "        if k in counts_mil.keys():\n",
    "            counts_mil[k] += v\n",
    "        else:\n",
    "            counts_mil[k] = v\n",
    "            \n",
    "    # save m_is_lower\n",
    "    list_mil.append(m_is_lower)\n",
    "    \n",
    "    # get fraction\n",
    "    fraction_mil = len(m_is_lower)/len(df) * 100\n",
    "    fractions_mil.append(fraction_mil)\n",
    "    print(halogen, counts)\n",
    "    print(halogen, len(m_is_lower), \"/\", len(df), f\"= {fraction_mil:.2f}%\")\n",
    "    print(\"\")"
   ]
  },
  {
   "cell_type": "code",
   "execution_count": 4,
   "metadata": {},
   "outputs": [
    {
     "data": {
      "text/plain": [
       "{'ca': 1407, 'c3': 162, 'cd': 145, 'cc': 92, 'cf': 3, 'c2': 6, 'cx': 1}"
      ]
     },
     "execution_count": 4,
     "metadata": {},
     "output_type": "execute_result"
    }
   ],
   "source": [
    "counts_mil"
   ]
  },
  {
   "cell_type": "code",
   "execution_count": 5,
   "metadata": {},
   "outputs": [
    {
     "name": "stdout",
     "output_type": "stream",
     "text": [
      "overall 1816 / 2311 = 78.58%\n"
     ]
    }
   ],
   "source": [
    "fraction_overall = sum(counts_mil.values()) / sum([len(df) for df in dipoles]) * 100\n",
    "print(\"overall\", sum(counts_mil.values()), \"/\",\n",
    "      sum([len(df) for df in dipoles]),\n",
    "      f\"= {fraction_overall:.2f}%\")\n",
    "fractions_mil.append(fraction_overall)"
   ]
  }
 ],
 "metadata": {
  "kernelspec": {
   "display_name": "Python 3",
   "language": "python",
   "name": "python3"
  },
  "language_info": {
   "codemirror_mode": {
    "name": "ipython",
    "version": 3
   },
   "file_extension": ".py",
   "mimetype": "text/x-python",
   "name": "python",
   "nbconvert_exporter": "python",
   "pygments_lexer": "ipython3",
   "version": "3.8.3"
  }
 },
 "nbformat": 4,
 "nbformat_minor": 4
}
